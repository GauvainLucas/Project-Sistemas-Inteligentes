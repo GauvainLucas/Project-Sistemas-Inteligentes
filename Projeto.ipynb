{
 "cells": [
  {
   "cell_type": "markdown",
   "metadata": {},
   "source": [
    "# Projeto Sistemas Inteligents"
   ]
  },
  {
   "cell_type": "markdown",
   "metadata": {},
   "source": [
    "The group is composed of:\n",
    "- Lucas Jean Emmanuel Gauvain - 13202421943\n",
    "- Adinan Alves de Brito Filho - 11201920527"
   ]
  },
  {
   "cell_type": "markdown",
   "metadata": {},
   "source": [
    "Add project description here"
   ]
  }
 ],
 "metadata": {
  "language_info": {
   "name": "python"
  }
 },
 "nbformat": 4,
 "nbformat_minor": 2
}
