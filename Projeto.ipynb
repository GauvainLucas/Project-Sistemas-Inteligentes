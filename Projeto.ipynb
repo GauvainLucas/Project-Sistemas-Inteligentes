{
 "cells": [
  {
   "cell_type": "markdown",
   "metadata": {},
   "source": [
    "# Projeto Sistemas Inteligents"
   ]
  },
  {
   "cell_type": "markdown",
   "metadata": {},
   "source": [
    "## Project title"
   ]
  },
  {
   "cell_type": "markdown",
   "metadata": {},
   "source": [
    "The group is composed of:\n",
    "| Student                        | RA          |\n",
    "| ----------------------------   | ----------- |\n",
    "| Lucas Jean Emmanuel Gauvain    | 13202421943 |\n",
    "| Adinan Alves de Brito Filho    | 11201920527 |\n",
    "| Christopher de Oliveira Moura  | 12202432444 |\n",
    "| João Pedro Sousa Santos        | 11202021260 |\n"
   ]
  },
  {
   "cell_type": "markdown",
   "metadata": {},
   "source": [
    "Add project description here"
   ]
  },
  {
   "cell_type": "markdown",
   "metadata": {},
   "source": [
    "Draft :\n",
    "Tips (things to implement):\n",
    "- classification\n",
    "- clusterization\n",
    "- optimization ?"
   ]
  },
  {
   "cell_type": "code",
   "execution_count": null,
   "metadata": {},
   "outputs": [],
   "source": []
  },
  {
   "cell_type": "markdown",
   "metadata": {},
   "source": [
    "References:\n",
    "\n",
    "https://lukmanaj.medium.com/exploring-breast-cancer-classification-logistic-regression-and-scikit-learn-in-action-1c94a3d9fe49\n",
    "\n",
    "\n",
    "\n",
    "https://colab.research.google.com/github/Coyote-Schmoyote/breast-cancer-clf-model/blob/main/breast_cancer.ipynb\n",
    "\n",
    "\n",
    "https://github.com/BitwiseData/Breast-Cancer-Classification-Using-SVM/blob/main/Breast%20Cancer%20Diagnosis%20using%20Support%20Vector%20Machines..ipynb"
   ]
  }
 ],
 "metadata": {
  "kernelspec": {
   "display_name": "Python 3",
   "language": "python",
   "name": "python3"
  },
  "language_info": {
   "codemirror_mode": {
    "name": "ipython",
    "version": 3
   },
   "file_extension": ".py",
   "mimetype": "text/x-python",
   "name": "python",
   "nbconvert_exporter": "python",
   "pygments_lexer": "ipython3",
   "version": "3.8.10"
  }
 },
 "nbformat": 4,
 "nbformat_minor": 2
}
